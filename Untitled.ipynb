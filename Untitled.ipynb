{
 "cells": [
  {
   "cell_type": "code",
   "execution_count": null,
   "id": "8c690aab-4403-4278-9b8b-6792ebbb8c8f",
   "metadata": {},
   "outputs": [],
   "source": [
    "DDD= {11:\"São Paulo\",61:\"Brasilia\",71:\"Salvador\",21:\"Rio De Janeiro\",32:\"Juiz De Fora\",19:\"Campinas\",27:\"Vitoria\",31:\"Belo Horizonte\"}\n",
    "print(DDD)\n",
    "\n",
    "DDD=0\n",
    "abu= int(input(\"digite seu DDD\"))\n",
    "print(abu)\n",
    "\n",
    "if DDD in num"
   ]
  }
 ],
 "metadata": {
  "kernelspec": {
   "display_name": "Python 3 (ipykernel)",
   "language": "python",
   "name": "python3"
  },
  "language_info": {
   "codemirror_mode": {
    "name": "ipython",
    "version": 3
   },
   "file_extension": ".py",
   "mimetype": "text/x-python",
   "name": "python",
   "nbconvert_exporter": "python",
   "pygments_lexer": "ipython3",
   "version": "3.11.7"
  }
 },
 "nbformat": 4,
 "nbformat_minor": 5
}
